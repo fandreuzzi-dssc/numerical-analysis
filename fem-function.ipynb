{
 "cells": [
  {
   "cell_type": "code",
   "execution_count": 1,
   "id": "coordinate-music",
   "metadata": {},
   "outputs": [],
   "source": [
    "import numpy as np\n",
    "import matplotlib.pyplot as plt\n",
    "import sympy as sym"
   ]
  },
  {
   "cell_type": "code",
   "execution_count": 2,
   "id": "medieval-marsh",
   "metadata": {},
   "outputs": [],
   "source": [
    "def fem(M, rhs_function, degree=1, a=0, b=1):\n",
    "    # support points on That\n",
    "    reference_vertices = np.linspace(0,1,degree+1)\n",
    "\n",
    "    # number of quadrature points used to integrate on That\n",
    "    n_quadrature_points = 2*degree+1\n",
    "\n",
    "    # total number of basis on Omega\n",
    "    N = M*degree+1\n",
    "\n",
    "    # vertices of the triangulation of Omega\n",
    "    vertices = np.linspace(a,b,M+1)\n",
    "\n",
    "    # That\n",
    "    x = np.linspace(0,1,51)\n",
    "    \n",
    "    # maps values from That to the k-th element\n",
    "    def mapping(q, i):\n",
    "        return lambda x: q[i] + x*(q[i+1]-q[i])\n",
    "\n",
    "    # this is the derivative of `mapping`\n",
    "    def mapping_J(q,i):\n",
    "        return (q[i+1] - q[i])\n",
    "    \n",
    "    # we are going to use lagrange basis as a function basis on the reference sub-domain\n",
    "    def lagrange_basis(q, i):\n",
    "        return lambda x: np.prod([(x-q[j]) / (q[i]-q[j]) for j in range(len(q)) if i != j], axis=0)\n",
    "    \n",
    "    def np_lambdify(varname, func):\n",
    "        lamb = sym.lambdify(varname, func, modules=['numpy'])\n",
    "        if func.is_constant():\n",
    "            return lambda t: np.full_like(t, lamb(t))\n",
    "        else:\n",
    "            return lambda t: lamb(np.array(t))\n",
    "\n",
    "    def lagrange_basis_derivative(q,i,order=1):\n",
    "        t = sym.var('t')\n",
    "        return np_lambdify(t, lagrange_basis(q,i)(t).diff(t, order))\n",
    "\n",
    "    # quadrature formula\n",
    "    q,w = np.polynomial.legendre.leggauss(n_quadrature_points)\n",
    "    q = (q+1)/2\n",
    "    w = w/2\n",
    "    \n",
    "    Q = np.array([mapping(vertices,element_idx)(q) for element_idx in range(M)])\n",
    "    Xq = Q.flatten()\n",
    "    \n",
    "    # B is such that B[k][x][i] is the i-th basis evaluated at x in the k-th element\n",
    "    # we have N basis functions on Omega\n",
    "    B = np.zeros((M, len(x), N))\n",
    "    \n",
    "    P = np.zeros((M,degree+1), dtype=int)\n",
    "    for k in range(M):\n",
    "        start=k*degree\n",
    "        P[k] = np.array(range(start,start+degree+1))\n",
    "        \n",
    "    X = np.array([mapping(vertices, k)(x) for k in range(M)])\n",
    "    X2 = X.flatten()\n",
    "\n",
    "    for k in range(M):\n",
    "        # locally on each element we're going to have only degree+1 non-zero basis, the other are turned off\n",
    "        # by continuity, i.e. they're set to zero in such a way that we prevent discontinuities\n",
    "        B[k,:,P[k]] = np.array([lagrange_basis(reference_vertices, i)(x) for i in range(degree+1)])\n",
    "    B2 = B.reshape((len(X2), -1))\n",
    "    \n",
    "    Vq = np.array([lagrange_basis(reference_vertices, i)(q) for i in range(degree+1)])\n",
    "    \n",
    "    JxW = np.array([mapping_J(vertices,element_idx)*w for element_idx in range(M)])\n",
    "    JxWq = JxW.flatten()\n",
    "    \n",
    "    Bq = np.zeros((M, n_quadrature_points, N))\n",
    "    Vq = np.array([lagrange_basis(reference_vertices, i)(q) for i in range(degree+1)]).T\n",
    "\n",
    "    # we can re-use the same basis since each element has the same three basis functions\n",
    "    for k in range(M):\n",
    "        Bq[k,:,P[k]] = Vq.T\n",
    "    Bq = Bq.reshape((len(Xq),-1))\n",
    "    \n",
    "    Bprimeq = np.zeros((M, n_quadrature_points, N))\n",
    "    Vprimeq = np.array([lagrange_basis_derivative(reference_vertices, i)(q) for i in range(degree+1)]).T\n",
    "\n",
    "    for k in range(M):\n",
    "        Bprimeq[k,:,P[k]] = Vprimeq.T / mapping_J(vertices, k)\n",
    "\n",
    "    Bprimeq = Bprimeq.reshape((len(Xq),-1))\n",
    "    \n",
    "    stiffness_matrix = np.einsum('qi,qj,q', Bprimeq, Bprimeq, JxWq)\n",
    "    stiffness_matrix[0,:] = stiffness_matrix[-1,:] = 0\n",
    "    stiffness_matrix[0,0] = stiffness_matrix[-1,-1] = 1\n",
    "    \n",
    "    rhs = np.einsum('qi,q,q', Bq, rhs_function(Xq), JxWq)\n",
    "    rhs[0] = rhs[-1] = 0\n",
    "    \n",
    "    u = np.linalg.solve(stiffness_matrix, rhs)\n",
    "    return Xq,Bq.dot(u),JxWq"
   ]
  },
  {
   "cell_type": "code",
   "execution_count": 5,
   "id": "focused-lottery",
   "metadata": {},
   "outputs": [
    {
     "data": {
      "text/plain": [
       "[<matplotlib.lines.Line2D at 0x114c053a0>]"
      ]
     },
     "execution_count": 5,
     "metadata": {},
     "output_type": "execute_result"
    },
    {
     "data": {
      "image/png": "[encoded data removed]",
      "text/plain": [
       "<Figure size 432x288 with 1 Axes>"
      ]
     },
     "metadata": {
      "needs_background": "light"
     },
     "output_type": "display_data"
    }
   ],
   "source": [
    "func = lambda x: np.sin(2*np.pi*x)*((2*np.pi)**2)\n",
    "exact = lambda x: np.sin(2*np.pi*x)\n",
    "\n",
    "error = []\n",
    "Ms = list(range(5,128))\n",
    "h = []\n",
    "\n",
    "for M in Ms:\n",
    "    Xq, approx, JxWq = fem(M, func)\n",
    "    error.append(np.sqrt(np.einsum('q,q', (approx-exact(Xq))**2, JxWq)))\n",
    "    h.append(1/(M+1))\n",
    "    \n",
    "plt.loglog(h, error)"
   ]
  },
  {
   "cell_type": "code",
   "execution_count": 7,
   "id": "traditional-genealogy",
   "metadata": {},
   "outputs": [
    {
     "data": {
      "text/plain": [
       "[<matplotlib.lines.Line2D at 0x115062b20>]"
      ]
     },
     "execution_count": 7,
     "metadata": {},
     "output_type": "execute_result"
    },
    {
     "data": {
      "image/png": "[encoded data removed]",
      "text/plain": [
       "<Figure size 432x288 with 1 Axes>"
      ]
     },
     "metadata": {
      "needs_background": "light"
     },
     "output_type": "display_data"
    }
   ],
   "source": [
    "error = []\n",
    "Ms = list(range(5,128))\n",
    "h = []\n",
    "\n",
    "for M in Ms:\n",
    "    Xq, approx, JxWq = fem(M, func, degree=2)\n",
    "    error.append(np.sqrt(np.einsum('q,q', (approx-exact(Xq))**2, JxWq)))\n",
    "    h.append(1/(M+1))\n",
    "    \n",
    "plt.loglog(h, error)"
   ]
  }
 ],
 "metadata": {
  "kernelspec": {
   "display_name": "Python 3",
   "language": "python",
   "name": "python3"
  },
  "language_info": {
   "codemirror_mode": {
    "name": "ipython",
    "version": 3
   },
   "file_extension": ".py",
   "mimetype": "text/x-python",
   "name": "python",
   "nbconvert_exporter": "python",
   "pygments_lexer": "ipython3",
   "version": "3.8.6"
  }
 },
 "nbformat": 4,
 "nbformat_minor": 5
}
